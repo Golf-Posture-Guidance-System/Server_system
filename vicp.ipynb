{
 "cells": [
  {
   "cell_type": "code",
   "execution_count": 31,
   "id": "dried-handy",
   "metadata": {},
   "outputs": [],
   "source": [
    "import cv2\n",
    "vidcap = cv2.VideoCapture(\"golf.mp4\")"
   ]
  },
  {
   "cell_type": "code",
   "execution_count": 32,
   "id": "assured-weather",
   "metadata": {
    "scrolled": false
   },
   "outputs": [
    {
     "name": "stdout",
     "output_type": "stream",
     "text": [
      "101\n"
     ]
    }
   ],
   "source": [
    "frame=[]\n",
    "while True:\n",
    "    success,image = vidcap.read()\n",
    "    if not success:\n",
    "          break\n",
    "    frame.append(image.copy())\n",
    "print(len(frame))"
   ]
  },
  {
   "cell_type": "code",
   "execution_count": null,
   "id": "exact-zimbabwe",
   "metadata": {},
   "outputs": [],
   "source": []
  },
  {
   "cell_type": "code",
   "execution_count": 33,
   "id": "suitable-disabled",
   "metadata": {},
   "outputs": [],
   "source": [
    "import json\n",
    "import math\n",
    "from matplotlib import pyplot as plt \n",
    "\n",
    "INF = 9999\n",
    "\n",
    "pose_idx = [20,37,53,68,69,75,90] #어,테,탑,다운,임펙,팔스,피니쉬 가 저장된 걸 반환받았다\n",
    "size = len(frame)\n",
    "def get_keypoints(vidname):\n",
    "    posepoints = []\n",
    "    for i in range(size): # 0~num i를 1씩 증가시키면서 반복\n",
    "        num = format(i,\"012\") # 0000000000000 문자열로 저장(12자리 0)\n",
    "        jfilename = vidname +\"_\"+num +\"_keypoints.json\"\n",
    "        with open('json/'+jfilename, 'r') as f:\n",
    "            json_data = json.load(f)  # json파일 불러오기댐\n",
    "            # 첫번째 사람만 본다. 2명일때 예외처리 나중에해야\n",
    "            keypoint = {'x': 0, 'y': 0, 'c': 0}  # 마지막 c는 신뢰도..0.3이하면 신뢰하지 않는다\n",
    "            posepoint = []\n",
    "\n",
    "            if not json_data['people'] : #openpose의 output은 물체에 사람이 잡히지 않을경우 poeple배열을 비운다. 빈 리스트인지 확인하는 코드\n",
    "                return posepoints\n",
    "\n",
    "            for j in range(75):  # 관절개수가 25개(0~24)\n",
    "                if j % 3 == 0:  # 0번째 자리\n",
    "                    keypoint['x'] = json_data['people'][0]['pose_keypoints_2d'][j]\n",
    "                elif j % 3 == 1:\n",
    "                    keypoint['y'] = json_data['people'][0]['pose_keypoints_2d'][j]\n",
    "                elif j % 3 == 2:\n",
    "                    keypoint['c'] = json_data['people'][0]['pose_keypoints_2d'][j]\n",
    "                    posepoint.append(keypoint.copy())  # 리스트는 깊은복사라서.. copy로\n",
    "                    # print(keypoint)\n",
    "        posepoints.append(posepoint.copy())\n",
    "    return posepoints\n",
    "posepoints = get_keypoints(\"front_wo\")"
   ]
  },
  {
   "cell_type": "code",
   "execution_count": 34,
   "id": "viral-arbitration",
   "metadata": {},
   "outputs": [
    {
     "name": "stdout",
     "output_type": "stream",
     "text": [
      "7\n"
     ]
    }
   ],
   "source": [
    "def cut_vid(frame,pose_index):\n",
    "    poseimg = [] #mat타입의 이미지가 저장 될 리스트\n",
    "    for i in pose_index:\n",
    "        poseimg.append(frame[i])\n",
    "    return poseimg\n",
    "\n",
    "pose_img = cut_vid(frame,pose_idx)\n",
    "print(len(pose_img))"
   ]
  },
  {
   "cell_type": "code",
   "execution_count": 35,
   "id": "variable-tomorrow",
   "metadata": {},
   "outputs": [
    {
     "data": {
      "text/plain": [
       "81.27499999999998"
      ]
     },
     "execution_count": 35,
     "metadata": {},
     "output_type": "execute_result"
    }
   ],
   "source": [
    "def get_distan(point1,point2): #두 점 사이의 거리를 구하는 함수\n",
    "    a = point1.get('x') - point2.get('x')\n",
    "    b = point2.get('y') - point2.get('y')\n",
    "    return math.sqrt((a*a) + (b*b))\n",
    "\n",
    "def get_humansize(posepoints): #인체 골격의 크기 구하기\n",
    "    top=posepoints[0][15]\n",
    "    bot=posepoints[0][19]\n",
    "    hight = get_distan(top,bot)\n",
    "    add = get_distan(posepoints[0][0],posepoints[0][1])\n",
    "    return hight+add\n",
    "    \n",
    "get_humansize(posepoints)"
   ]
  },
  {
   "cell_type": "code",
   "execution_count": 22,
   "id": "waiting-group",
   "metadata": {},
   "outputs": [],
   "source": [
    "i=0\n",
    "for img in pose_img:\n",
    "    num = str(i)\n",
    "    cv2.imshow(\"new\"+num, img) \n",
    "    i +=1\n",
    "cv2.waitKey()\n",
    "cv2.destroyAllWindows()"
   ]
  },
  {
   "cell_type": "code",
   "execution_count": 39,
   "id": "advised-termination",
   "metadata": {},
   "outputs": [
    {
     "name": "stdout",
     "output_type": "stream",
     "text": [
      "결과 이미지 크기는 486\n",
      "결과 이미지 크기는 486\n",
      "결과 이미지 크기는 486\n",
      "결과 이미지 크기는 486\n",
      "결과 이미지 크기는 486\n",
      "결과 이미지 크기는 486\n"
     ]
    }
   ],
   "source": [
    "def cut_img(posepoints,pose_img,pose_index,size):\n",
    "    centers=[] #프레임별로 몸 중심(8번관절)이 따로 필요하여 리스트로..\n",
    "    s=int(get_humansize(posepoints))*3\n",
    "    for i in pose_index: #어드래스가 있는 프레임,테잌어웨이프레임.. 등등 순회\n",
    "        centers.append((posepoints[i][8].get('x'),posepoints[i][8].get('y')))\n",
    "    for idx in range(0,6):#0,1,2,3,4,5,6 선형의 시간복잡도\n",
    "        img=pose_img[idx]\n",
    "        x, y = centers[idx][0],centers[idx][1]\n",
    "        num = str(idx)\n",
    "        print(\"결과 이미지 크기는\",s*2)\n",
    "        #여기에--- 모바일 영상 전송시 사이즈 조절 팔요시 size 매개변수로 ! 코드작성\n",
    "        roi = img[int(y-s):int(y+s), int(x-s):int(x+s)].copy()\n",
    "                  #[y시작:y끝             ,x시작:x끝]\n",
    "        cv2.imshow(\"new\"+num, roi)\n",
    "        #필요시 image저장코드 :\n",
    "        #fname = \"{}.jpg\".format(\"{0:05d}\")\n",
    "        #cv2.imwrite('result'+num+fname, image) # save frame as JPEG file\n",
    "    cv2.waitKey()\n",
    "    cv2.destroyAllWindows()\n",
    "cut_img(posepoints,pose_img,pose_idx,0)"
   ]
  },
  {
   "cell_type": "code",
   "execution_count": 11,
   "id": "shaped-prayer",
   "metadata": {},
   "outputs": [
    {
     "name": "stdout",
     "output_type": "stream",
     "text": [
      "209.008 301.00800000000004\n"
     ]
    }
   ],
   "source": []
  },
  {
   "cell_type": "code",
   "execution_count": null,
   "id": "canadian-might",
   "metadata": {},
   "outputs": [],
   "source": []
  }
 ],
 "metadata": {
  "kernelspec": {
   "display_name": "Python 3",
   "language": "python",
   "name": "python3"
  },
  "language_info": {
   "codemirror_mode": {
    "name": "ipython",
    "version": 3
   },
   "file_extension": ".py",
   "mimetype": "text/x-python",
   "name": "python",
   "nbconvert_exporter": "python",
   "pygments_lexer": "ipython3",
   "version": "3.6.13"
  }
 },
 "nbformat": 4,
 "nbformat_minor": 5
}
