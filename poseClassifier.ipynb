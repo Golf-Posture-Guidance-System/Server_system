{
 "cells": [
  {
   "cell_type": "code",
   "execution_count": 59,
   "id": "another-productivity",
   "metadata": {},
   "outputs": [
    {
     "name": "stdout",
     "output_type": "stream",
     "text": [
      "99\n",
      "90\n"
     ]
    }
   ],
   "source": [
    "import json\n",
    "import math\n",
    "from matplotlib import pyplot as plt \n",
    "\n",
    "INF = 9999\n",
    "\n",
    "\n",
    "def get_keypoints(vidname,size):\n",
    "    posepoints = []\n",
    "    for i in range(size+1): # 0~num i를 1씩 증가시키면서 반복\n",
    "        num = format(i,\"012\") # 0000000000000 문자열로 저장(12자리 0)\n",
    "        jfilename = vidname +\"_\"+num +\"_keypoints.json\"\n",
    "        with open('json/'+jfilename, 'r') as f:\n",
    "            json_data = json.load(f)  # json파일 불러오기댐\n",
    "            # 첫번째 사람만 본다. 2명일때 예외처리 나중에해야\n",
    "            keypoint = {'x': 0, 'y': 0, 'c': 0}  # 마지막 c는 신뢰도..0.3이하면 신뢰하지 않는다\n",
    "            posepoint = []\n",
    "\n",
    "            if not json_data['people'] : #openpose의 output은 물체에 사람이 잡히지 않을경우 poeple배열을 비운다. 빈 리스트인지 확인하는 코드\n",
    "                return posepoints\n",
    "\n",
    "            for j in range(75):  # 관절개수가 25개(0~24)\n",
    "                if j % 3 == 0:  # 0번째 자리\n",
    "                    keypoint['x'] = json_data['people'][0]['pose_keypoints_2d'][j]\n",
    "                elif j % 3 == 1:\n",
    "                    keypoint['y'] = json_data['people'][0]['pose_keypoints_2d'][j]\n",
    "                elif j % 3 == 2:\n",
    "                    keypoint['c'] = json_data['people'][0]['pose_keypoints_2d'][j]\n",
    "                    posepoint.append(keypoint.copy())  # 리스트는 깊은복사라서.. copy로\n",
    "                    # print(keypoint)\n",
    "        posepoints.append(posepoint.copy())\n",
    "    return posepoints\n",
    "\n",
    "def get_slope(x1,y1,x2,y2): #두 점의 좌표를 가지고 기울기를 구하는 함수 (이번 코드에는 사용하지 않았음 ㅎㅎ;)\n",
    "    if x1 != x2: #분모가 0이되는 상황 방지\n",
    "        radian = math.arctan((y2-y1)/(x2-x1))\n",
    "    return radian\n",
    "\n",
    "def get_distan(point1,point2): #두 점 사이의 거리를 구하는 공식\n",
    "    a = point1.get('x') - point2.get('x')\n",
    "    b = point2.get('y') - point2.get('y')\n",
    "    return math.sqrt((a*a) + (b*b))\n",
    "\n",
    "def get_angle(joint1,joint2,joint3): #두 몸체의 기울기를 가지고 관절의 각도를구하는 함수      locate ->  j1 ------ j2 ------- j3\n",
    "    if(joint1.get('x')-joint2.get('x')) == 0:\n",
    "        return 0\n",
    "    if(joint3.get('x')-joint2.get('x')) == 0:\n",
    "        return 0\n",
    "    radi1 = math.atan2((joint1.get('y')-joint2.get('y')),(joint1.get('x')-joint2.get('x')))\n",
    "    radi2 = math.atan2((joint3.get('y')-joint2.get('y')),(joint3.get('x')-joint2.get('x')))\n",
    "    radian = radi1-radi2\n",
    "    #print(radian)\n",
    "    andgle = radian * (180 / math.pi)\n",
    "    return abs(andgle) #각도를절댓값으로 변환 ^^\n",
    "\n",
    "def cut_frame(posepoints) : #프레임을 어깨 각도를 통해 인식\n",
    "    size = len(posepoints)\n",
    "    flag = [0,0,0,  #[0. 어드래스, 1테이크어웨이,2백스윙\n",
    "            0,0,0]  # 3탑,4 다운스윙,5 임팩트]\n",
    "\n",
    "    left_wrist = get_wrist(posepoints,'left')\n",
    "    right_wrist = get_wrist(posepoints, 'right')\n",
    "    \n",
    "    \n",
    "    where_top = left_wrist.index(min(left_wrist)) #손목의 높이가 최대가 되는 곳을 리턴 (y축이 작을 수록 상단에 위치)\n",
    "    print(where_top)\n",
    "    where_top = right_wrist.index(min(right_wrist))  # 손목의 높이가 최대가 되는 곳을 리턴\n",
    "    print(where_top)\n",
    "\n",
    "    for i in range(size) :\n",
    "        posepoint = posepoints[i] #i번째 프레임의 몸체 좌표를 저장\n",
    "        if (is_adress(posepoint))  and (flag[1] ==0) :\n",
    "            flag[0] = 1\n",
    "            #print(\"어드래스!\")\n",
    "        if (flag[0] == 1) and (is_takeAway(posepoint)) and flag[2] == 0:\n",
    "            flag[2] = 1\n",
    "            #print(\"테이크어웨이\")\n",
    "\n",
    "        #angle_left_houlder = get_angle(posepoints[i][1], posepoints[i][2], posepoints[i][3])\n",
    "        #angle_right_shoulder = get_angle(posepoints[i][1], posepoints[i][5], posepoints[i][6])\n",
    "        #if(angle_right_shoulder <= 50) or (angle_left_shoulder <= 50):\n",
    "         #   print(\"어드래스 시작\")\n",
    "        #else :\n",
    "         #   print(\"?\")\n",
    "\n",
    "def get_y_wrist(posepoints,lr,xy) : \n",
    "    #손목 위치의 함수를 반환,프레임배열과, 왼오 옵\n",
    "    y_point_arr = []\n",
    "    if (lr == \"left\"): #왼\n",
    "        for i in range(len(posepoints)):\n",
    "            lwrist = posepoints[i][4].get('y')\n",
    "            if(lwrist == 0): #이상치에서 최소 값을 봐야하므로 inf로 대체\n",
    "                y_point_arr.append(INF)\n",
    "            elif (posepoints[i][4].get('c') < 0.2):\n",
    "                y_point_arr.append(INF)\n",
    "            else:y_point_arr.append(lwrist)\n",
    "            \n",
    "    elif (lr == \"right\"): #오른손\n",
    "        for i in range(len(posepoints)):\n",
    "            rwrist = posepoints[i][7].get('y')\n",
    "            if(rwrist == 0): #이상치에서 최소 값을 봐야하므로 inf로 대체\n",
    "                y_point_arr.append(INF)\n",
    "            elif (posepoints[i][4].get('c') < 0.2):\n",
    "                y_point_arr.append(INF)\n",
    "            else:y_point_arr.append(rwrist)            \n",
    "    return y_point_arr      \n",
    "\n",
    "def get_x_wrist(posepoints,lr,xy) : \n",
    "    #손목 위치의 함수를 반환,프레임배열과, 왼오 옵\n",
    "    y_point_arr = []\n",
    "    if (lr == \"left\"): #왼\n",
    "        for i in range(len(posepoints)):\n",
    "            lwrist = posepoints[i][4].get('x')\n",
    "            if(lwrist == 0): #이상치에서 최소 값을 봐야하므로 inf로 대체\n",
    "                y_point_arr.append(INF)\n",
    "            elif (posepoints[i][4].get('c') < 0.2):\n",
    "                y_point_arr.append(INF)\n",
    "            else:y_point_arr.append(lwrist)\n",
    "            \n",
    "    elif (lr == \"right\"): #오른손\n",
    "        for i in range(len(posepoints)):\n",
    "            rwrist = posepoints[i][7].get('x')\n",
    "            if(rwrist == 0): #이상치에서 최소 값을 봐야하므로 inf로 대체\n",
    "                y_point_arr.append(INF)\n",
    "            elif (posepoints[i][4].get('c') < 0.2):\n",
    "                y_point_arr.append(INF)\n",
    "            else:y_point_arr.append(rwrist)            \n",
    "    return y_point_arr   \n",
    "            \n",
    "def is_adress(posepoint) : #손과 어깨의 연결이 예각삼각형이여야한다\n",
    "    left_hand = posepoint[4]\n",
    "    right_hand = posepoint[7]\n",
    "    head_size = get_distan(posepoint[17], posepoint[18])\n",
    "    hand_dis = get_distan(posepoint[4], posepoint[7])\n",
    "    left_elbow_angel = get_angle(posepoint[2], posepoint[3],posepoint[4])\n",
    "    right_elbow_angle = get_angle(posepoint[5], posepoint[6],posepoint[7])\n",
    "\n",
    "    if head_size >= hand_dis : #머리 크기보다 손목사이의 거리가 좁으면 모아져 있다고 판단\n",
    "        #print(\"손이 모아져 있습니다.\")\n",
    "        if (left_elbow_angel >= 160) and (right_elbow_angle >= 160):\n",
    "            #print(\"팔꿈치가 펴져있습니다.\")\n",
    "            #좌 우 팔꿈치가 어느정도 펴져 있어야 한다.\n",
    "            return True\n",
    "\n",
    "def is_takeAway(posepoint) :\n",
    "    head_size = get_distan(posepoint[17], posepoint[18])\n",
    "    hand_dis = get_distan(posepoint[4], posepoint[7])\n",
    "\n",
    "    if  head_size >= hand_dis : #머리 크기보다 손목사이의 거리가 좁으면 모아져 있다고 판단\n",
    "        if posepoint[7].get('x') > posepoint[8].get('y'):\n",
    "            #우측 팔목의 x축 배꼽아래보다 좌측에 있다.\n",
    "            #print(\"손이 배꼽 아래에 있다.\")\n",
    "            return True\n",
    "\n",
    "def is_top(l_wrist,r_wrist):\n",
    "    x_values = []\n",
    "    y_values = []\n",
    "    for i in range(0,l_wrist.len):\n",
    "        x_values.append(l_wrist[i])\n",
    "        y_values.append(i)\n",
    "    plt.plot(x_values,y_values)\n",
    "    plt.show()\n",
    "    return True\n",
    "\n",
    "\n",
    "\n",
    "\n",
    "\n",
    "\n",
    "posepoints = get_keypoints(\"front_wo\", 100)\n",
    "\n",
    "    #joint num -------\n",
    "    #1:어깨 중심    2 : 좌측어깨    3:좌측 팔꿈치    5 : 우측어꺠   6:우측팔꿈치 .. \n",
    "angle234 = get_angle(posepoints[0][2],posepoints[0][3],posepoints[0][4])\n",
    "cut_frame(posepoints)"
   ]
  },
  {
   "cell_type": "code",
   "execution_count": null,
   "id": "funded-sigma",
   "metadata": {},
   "outputs": [],
   "source": []
  },
  {
   "cell_type": "code",
   "execution_count": 60,
   "id": "suspended-cambridge",
   "metadata": {
    "scrolled": true
   },
   "outputs": [
    {
     "name": "stdout",
     "output_type": "stream",
     "text": [
      "9999\n",
      "99\n",
      "65\n"
     ]
    },
    {
     "data": {
      "image/png": "[encoded data removed]",
      "text/plain": [
       "<Figure size 432x288 with 1 Axes>"
      ]
     },
     "metadata": {
      "needs_background": "light"
     },
     "output_type": "display_data"
    }
   ],
   "source": [
    "size = len(posepoints)\n",
    "flag = [0,0,0,0,0,0]  # 3탑,4 다운스윙,5 임팩트]\n",
    "\n",
    "left_wrist = get_wrist(posepoints,'left')\n",
    "right_wrist = get_wrist(posepoints, 'right')\n",
    "    \n",
    "    \n",
    "where_top = left_wrist.index(min(left_wrist)) #손목의 높이가 최대가 되는 곳을 리턴 (y축이 작을 수록 상단에 위치)\n",
    "print(left_wrist[48])\n",
    "print(where_top)\n",
    "where_top = right_wrist.index(min(right_wrist))  # 손목의 높이가 최대가 되는 곳을 리턴\n",
    "print(len(x_values))\n",
    "\n",
    "x_values = []\n",
    "y_values = []\n",
    "for i in range(len(left_wrist)):\n",
    "    if(left_wrist[i] == INF):\n",
    "        #y_values.append(0)\n",
    "        a=3\n",
    "    else : \n",
    "        y_values.append(left_wrist[i])\n",
    "        x_values.append(i)\n",
    "    \n",
    "plt.scatter(x_values,y_values)\n",
    "x_values = []\n",
    "y_values = []\n",
    "for i in range(len(right_wrist)):\n",
    "    if(right_wrist[i] == INF):\n",
    "        #y_values.append(0)\n",
    "        a=3\n",
    "    else : \n",
    "        y_values.append(right_wrist[i])\n",
    "        x_values.append(i)\n",
    "plt.scatter(x_values,y_values)\n",
    "plt.legend(['left','right'])\n",
    "plt.show()"
   ]
  },
  {
   "cell_type": "code",
   "execution_count": 53,
   "id": "instrumental-pasta",
   "metadata": {},
   "outputs": [
    {
     "data": {
      "image/png": "[encoded data removed]",
      "text/plain": [
       "<Figure size 432x288 with 1 Axes>"
      ]
     },
     "metadata": {
      "needs_background": "light"
     },
     "output_type": "display_data"
    }
   ],
   "source": [
    "from scipy import interpolate #보간법을 위해..\n",
    "from sklearn import linear_model\n",
    "\n",
    "x = [x_values[k] for k in range(len(x_values))]\n",
    "y = [y_values[m] for m in range(len(y_values))]\n",
    "\n",
    "X = [[x_values[k]] for k in range(len(x_values))]\n",
    "\n",
    "reg = linear_model.LinearRegression()\n",
    "reg.fit(X,y)\n",
    "xp = [1*k for k in range(101)]\n",
    "Xp = [[xp[m]] for m in range(101)]\n",
    "yp = reg.predict(Xp)\n",
    "plt.plot(xp, yp)\n",
    "plt.show()"
   ]
  },
  {
   "cell_type": "code",
   "execution_count": 54,
   "id": "wrong-simulation",
   "metadata": {},
   "outputs": [
    {
     "data": {
      "text/plain": [
       "263.137"
      ]
     },
     "execution_count": 54,
     "metadata": {},
     "output_type": "execute_result"
    }
   ],
   "source": [
    "x = [x_values[k] for k in range(len(x_values))]\n",
    "y = [y_values[m] for m in range(len(y_values))]\n",
    "y_values[2]"
   ]
  },
  {
   "cell_type": "code",
   "execution_count": 55,
   "id": "broke-wagner",
   "metadata": {},
   "outputs": [
    {
     "name": "stdout",
     "output_type": "stream",
     "text": [
      "281.44272009129594\n",
      "[-1.36862179e+00 -3.89464526e-04]\n"
     ]
    },
    {
     "data": {
      "text/plain": [
       "[<matplotlib.lines.Line2D at 0x1492c305518>]"
      ]
     },
     "execution_count": 55,
     "metadata": {},
     "output_type": "execute_result"
    },
    {
     "data": {
      "image/png": "[encoded data removed]",
      "text/plain": [
       "<Figure size 432x288 with 1 Axes>"
      ]
     },
     "metadata": {
      "needs_background": "light"
     },
     "output_type": "display_data"
    }
   ],
   "source": [
    "X2 = [[x[k], x[k]**2] for k in range(len(x_values))]\n",
    "\n",
    "reg2 = linear_model.LinearRegression()\n",
    "reg2.fit(X2,y)\n",
    "print(reg2.intercept_)\n",
    "print(reg2.coef_)\n",
    "\n",
    "xp2 = [1*k for k in range(101)]\n",
    "Xp2 = [[xp2[k], xp2[k]**2] for k in range(101)]\n",
    "yp2 = reg2.predict(Xp2)\n",
    "\n",
    "plt.plot(x, y, \"*\")\n",
    "plt.plot(xp2, yp2)"
   ]
  },
  {
   "cell_type": "code",
   "execution_count": 56,
   "id": "separate-catalyst",
   "metadata": {},
   "outputs": [
    {
     "name": "stdout",
     "output_type": "stream",
     "text": [
      "292.3910672838504\n",
      "[-1.75527387e+01  2.19457369e+00 -1.01332628e-01  2.06353406e-03\n",
      " -1.91783440e-05  6.65543137e-08]\n",
      "0.7881725587706765\n"
     ]
    },
    {
     "data": {
      "text/plain": [
       "[<matplotlib.lines.Line2D at 0x1492c86b438>]"
      ]
     },
     "execution_count": 56,
     "metadata": {},
     "output_type": "execute_result"
    },
    {
     "data": {
      "image/png": "[encoded data removed]",
      "text/plain": [
       "<Figure size 432x288 with 1 Axes>"
      ]
     },
     "metadata": {
      "needs_background": "light"
     },
     "output_type": "display_data"
    }
   ],
   "source": [
    "X9 = [[x[k]**n for n in range(1,7)] for k in range(len(x_values))]\n",
    "\n",
    "# from sklearn import linear_model # already imported\n",
    "reg9 = linear_model.LinearRegression()\n",
    "reg9.fit(X9,y)\n",
    "print(reg9.intercept_)\n",
    "print(reg9.coef_)\n",
    "print(reg9.score(X9,y))\n",
    "\n",
    "xp9 = [1*k for k in range(101)]\n",
    "Xp9 = [[xp9[k]**n for n in range(1,7)] for k in range(101)]\n",
    "yp9 = reg9.predict(Xp9)\n",
    "\n",
    "plt.plot(x, y, \"x\")\n",
    "plt.plot(xp9, yp9)"
   ]
  },
  {
   "cell_type": "code",
   "execution_count": 58,
   "id": "demonstrated-identifier",
   "metadata": {},
   "outputs": [
    {
     "name": "stdout",
     "output_type": "stream",
     "text": [
      "250.73945032219223\n",
      "[ 3.94162033e+00 -2.06223262e-01  2.71260648e-03 -1.14229830e-05]\n"
     ]
    },
    {
     "ename": "IndexError",
     "evalue": "list index out of range",
     "output_type": "error",
     "traceback": [
      "\u001b[1;31m---------------------------------------------------------------------------\u001b[0m",
      "\u001b[1;31mIndexError\u001b[0m                                Traceback (most recent call last)",
      "\u001b[1;32m<ipython-input-58-3a7f34d8b7ad>\u001b[0m in \u001b[0;36m<module>\u001b[1;34m\u001b[0m\n\u001b[0;32m      8\u001b[0m \u001b[1;33m\u001b[0m\u001b[0m\n\u001b[0;32m      9\u001b[0m \u001b[0mxp3\u001b[0m \u001b[1;33m=\u001b[0m \u001b[1;33m[\u001b[0m\u001b[1;36m1\u001b[0m\u001b[1;33m*\u001b[0m\u001b[0mk\u001b[0m \u001b[1;32mfor\u001b[0m \u001b[0mk\u001b[0m \u001b[1;32min\u001b[0m \u001b[0mrange\u001b[0m\u001b[1;33m(\u001b[0m\u001b[1;36m101\u001b[0m\u001b[1;33m)\u001b[0m\u001b[1;33m]\u001b[0m\u001b[1;33m\u001b[0m\u001b[1;33m\u001b[0m\u001b[0m\n\u001b[1;32m---> 10\u001b[1;33m \u001b[0mXp3\u001b[0m \u001b[1;33m=\u001b[0m \u001b[1;33m[\u001b[0m\u001b[1;33m[\u001b[0m\u001b[0mxp\u001b[0m\u001b[1;33m[\u001b[0m\u001b[0mk\u001b[0m\u001b[1;33m]\u001b[0m\u001b[1;33m,\u001b[0m \u001b[0mxp\u001b[0m\u001b[1;33m[\u001b[0m\u001b[0mk\u001b[0m\u001b[1;33m]\u001b[0m\u001b[1;33m**\u001b[0m\u001b[1;36m2\u001b[0m\u001b[1;33m,\u001b[0m \u001b[0mxp\u001b[0m\u001b[1;33m[\u001b[0m\u001b[0mk\u001b[0m\u001b[1;33m]\u001b[0m\u001b[1;33m**\u001b[0m\u001b[1;36m3\u001b[0m\u001b[1;33m,\u001b[0m\u001b[0mx\u001b[0m\u001b[1;33m[\u001b[0m\u001b[0mk\u001b[0m\u001b[1;33m]\u001b[0m\u001b[1;33m**\u001b[0m\u001b[1;36m4\u001b[0m\u001b[1;33m]\u001b[0m \u001b[1;32mfor\u001b[0m \u001b[0mk\u001b[0m \u001b[1;32min\u001b[0m \u001b[0mrange\u001b[0m\u001b[1;33m(\u001b[0m\u001b[1;36m101\u001b[0m\u001b[1;33m)\u001b[0m\u001b[1;33m]\u001b[0m\u001b[1;33m\u001b[0m\u001b[1;33m\u001b[0m\u001b[0m\n\u001b[0m\u001b[0;32m     11\u001b[0m \u001b[0myp3\u001b[0m \u001b[1;33m=\u001b[0m \u001b[0mreg3\u001b[0m\u001b[1;33m.\u001b[0m\u001b[0mpredict\u001b[0m\u001b[1;33m(\u001b[0m\u001b[0mXp3\u001b[0m\u001b[1;33m)\u001b[0m\u001b[1;33m\u001b[0m\u001b[1;33m\u001b[0m\u001b[0m\n\u001b[0;32m     12\u001b[0m \u001b[1;33m\u001b[0m\u001b[0m\n",
      "\u001b[1;32m<ipython-input-58-3a7f34d8b7ad>\u001b[0m in \u001b[0;36m<listcomp>\u001b[1;34m(.0)\u001b[0m\n\u001b[0;32m      8\u001b[0m \u001b[1;33m\u001b[0m\u001b[0m\n\u001b[0;32m      9\u001b[0m \u001b[0mxp3\u001b[0m \u001b[1;33m=\u001b[0m \u001b[1;33m[\u001b[0m\u001b[1;36m1\u001b[0m\u001b[1;33m*\u001b[0m\u001b[0mk\u001b[0m \u001b[1;32mfor\u001b[0m \u001b[0mk\u001b[0m \u001b[1;32min\u001b[0m \u001b[0mrange\u001b[0m\u001b[1;33m(\u001b[0m\u001b[1;36m101\u001b[0m\u001b[1;33m)\u001b[0m\u001b[1;33m]\u001b[0m\u001b[1;33m\u001b[0m\u001b[1;33m\u001b[0m\u001b[0m\n\u001b[1;32m---> 10\u001b[1;33m \u001b[0mXp3\u001b[0m \u001b[1;33m=\u001b[0m \u001b[1;33m[\u001b[0m\u001b[1;33m[\u001b[0m\u001b[0mxp\u001b[0m\u001b[1;33m[\u001b[0m\u001b[0mk\u001b[0m\u001b[1;33m]\u001b[0m\u001b[1;33m,\u001b[0m \u001b[0mxp\u001b[0m\u001b[1;33m[\u001b[0m\u001b[0mk\u001b[0m\u001b[1;33m]\u001b[0m\u001b[1;33m**\u001b[0m\u001b[1;36m2\u001b[0m\u001b[1;33m,\u001b[0m \u001b[0mxp\u001b[0m\u001b[1;33m[\u001b[0m\u001b[0mk\u001b[0m\u001b[1;33m]\u001b[0m\u001b[1;33m**\u001b[0m\u001b[1;36m3\u001b[0m\u001b[1;33m,\u001b[0m\u001b[0mx\u001b[0m\u001b[1;33m[\u001b[0m\u001b[0mk\u001b[0m\u001b[1;33m]\u001b[0m\u001b[1;33m**\u001b[0m\u001b[1;36m4\u001b[0m\u001b[1;33m]\u001b[0m \u001b[1;32mfor\u001b[0m \u001b[0mk\u001b[0m \u001b[1;32min\u001b[0m \u001b[0mrange\u001b[0m\u001b[1;33m(\u001b[0m\u001b[1;36m101\u001b[0m\u001b[1;33m)\u001b[0m\u001b[1;33m]\u001b[0m\u001b[1;33m\u001b[0m\u001b[1;33m\u001b[0m\u001b[0m\n\u001b[0m\u001b[0;32m     11\u001b[0m \u001b[0myp3\u001b[0m \u001b[1;33m=\u001b[0m \u001b[0mreg3\u001b[0m\u001b[1;33m.\u001b[0m\u001b[0mpredict\u001b[0m\u001b[1;33m(\u001b[0m\u001b[0mXp3\u001b[0m\u001b[1;33m)\u001b[0m\u001b[1;33m\u001b[0m\u001b[1;33m\u001b[0m\u001b[0m\n\u001b[0;32m     12\u001b[0m \u001b[1;33m\u001b[0m\u001b[0m\n",
      "\u001b[1;31mIndexError\u001b[0m: list index out of range"
     ]
    }
   ],
   "source": [
    "X3 = [[x[k], x[k]**2, x[k]**3,x[k]**4] for k in range(len(x_values))]\n",
    "\n",
    "# from sklearn import linear_model # already imported\n",
    "reg3 = linear_model.LinearRegression()\n",
    "reg3.fit(X3,y)\n",
    "print(reg3.intercept_)\n",
    "print(reg3.coef_)\n",
    "\n",
    "xp3 = [1*k for k in range(101)]\n",
    "Xp3 = [[xp[k], xp[k]**2, xp[k]**3,x[k]**4] for k in range(101)]\n",
    "yp3 = reg3.predict(Xp3)\n",
    "\n",
    "plt.plot(x, y, \"x\")\n",
    "plt.plot(xp3, yp3)"
   ]
  },
  {
   "cell_type": "code",
   "execution_count": 63,
   "id": "scientific-russell",
   "metadata": {},
   "outputs": [],
   "source": [
    "def get_x_wrist(posepoints,lr) : \n",
    "    #손목 위치의 함수를 반환,프레임배열과, 왼오 옵\n",
    "    y_point_arr = []\n",
    "    if (lr == \"left\"): #왼\n",
    "        for i in range(len(posepoints)):\n",
    "            lwrist = posepoints[i][4].get('x')\n",
    "            if(lwrist == 0): #이상치에서 최소 값을 봐야하므로 inf로 대체\n",
    "                y_point_arr.append(INF)\n",
    "            elif (posepoints[i][4].get('c') < 0.2):\n",
    "                y_point_arr.append(INF)\n",
    "            else:y_point_arr.append(lwrist)\n",
    "            \n",
    "    elif (lr == \"right\"): #오른손\n",
    "        for i in range(len(posepoints)):\n",
    "            rwrist = posepoints[i][7].get('x')\n",
    "            if(rwrist == 0): #이상치에서 최소 값을 봐야하므로 inf로 대체\n",
    "                y_point_arr.append(INF)\n",
    "            elif (posepoints[i][4].get('c') < 0.2):\n",
    "                y_point_arr.append(INF)\n",
    "            else:y_point_arr.append(rwrist)            \n",
    "    return y_point_arr   "
   ]
  },
  {
   "cell_type": "code",
   "execution_count": 64,
   "id": "closing-praise",
   "metadata": {},
   "outputs": [
    {
     "name": "stdout",
     "output_type": "stream",
     "text": [
      "73\n"
     ]
    },
    {
     "data": {
      "image/png": "[encoded data removed]",
      "text/plain": [
       "<Figure size 432x288 with 1 Axes>"
      ]
     },
     "metadata": {
      "needs_background": "light"
     },
     "output_type": "display_data"
    }
   ],
   "source": [
    "left_wrist = get_x_wrist(posepoints,'left')\n",
    "right_wrist = get_x_wrist(posepoints, 'right')\n",
    "    \n",
    "    \n",
    "where_top = left_wrist.index(min(left_wrist)) #손목의 높이가 최대가 되는 곳을 리턴 (y축이 작을 수록 상단에 위치)\n",
    "where_top = right_wrist.index(min(right_wrist))  # 손목의 높이가 최대가 되는 곳을 리턴\n",
    "print(len(x_values))\n",
    "\n",
    "x_values = []\n",
    "y_values = []\n",
    "for i in range(len(left_wrist)):\n",
    "    if(left_wrist[i] == INF):\n",
    "        #y_values.append(0)\n",
    "        a=3\n",
    "    else : \n",
    "        y_values.append(left_wrist[i])\n",
    "        x_values.append(i)\n",
    "    \n",
    "plt.scatter(x_values,y_values)\n",
    "x_values = []\n",
    "y_values = []\n",
    "for i in range(len(right_wrist)):\n",
    "    if(right_wrist[i] == INF):\n",
    "        #y_values.append(0)\n",
    "        a=3\n",
    "    else : \n",
    "        y_values.append(right_wrist[i])\n",
    "        x_values.append(i)\n",
    "plt.scatter(x_values,y_values)\n",
    "plt.legend(['left','right'])\n",
    "plt.show()"
   ]
  },
  {
   "cell_type": "code",
   "execution_count": 65,
   "id": "angry-prior",
   "metadata": {},
   "outputs": [
    {
     "data": {
      "image/png": "[encoded data removed]",
      "text/plain": [
       "<Figure size 432x288 with 1 Axes>"
      ]
     },
     "metadata": {
      "needs_background": "light"
     },
     "output_type": "display_data"
    }
   ],
   "source": [
    "from scipy import interpolate #보간법을 위해..\n",
    "from sklearn import linear_model\n",
    "\n",
    "x = [x_values[k] for k in range(len(x_values))]\n",
    "y = [y_values[m] for m in range(len(y_values))]\n",
    "\n",
    "X = [[x_values[k]] for k in range(len(x_values))]\n",
    "\n",
    "reg = linear_model.LinearRegression()\n",
    "reg.fit(X,y)\n",
    "xp = [1*k for k in range(101)]\n",
    "Xp = [[xp[m]] for m in range(101)]\n",
    "yp = reg.predict(Xp)\n",
    "plt.plot(xp, yp)\n",
    "plt.show()"
   ]
  },
  {
   "cell_type": "code",
   "execution_count": 67,
   "id": "radical-samoa",
   "metadata": {},
   "outputs": [
    {
     "name": "stdout",
     "output_type": "stream",
     "text": [
      "470.72342902970456\n",
      "[ 1.27774012e+01 -9.09158812e-01  2.04407260e-02 -1.81270237e-04\n",
      "  5.54287882e-07]\n",
      "0.536840046589641\n"
     ]
    },
    {
     "data": {
      "text/plain": [
       "[<matplotlib.lines.Line2D at 0x1492dc98cf8>]"
      ]
     },
     "execution_count": 67,
     "metadata": {},
     "output_type": "execute_result"
    },
    {
     "data": {
      "image/png": "[encoded data removed]",
      "text/plain": [
       "<Figure size 432x288 with 1 Axes>"
      ]
     },
     "metadata": {
      "needs_background": "light"
     },
     "output_type": "display_data"
    }
   ],
   "source": [
    "X9 = [[x[k]**n for n in range(1,6)] for k in range(len(x_values))]\n",
    "\n",
    "# from sklearn import linear_model # already imported\n",
    "reg9 = linear_model.LinearRegression()\n",
    "reg9.fit(X9,y)\n",
    "print(reg9.intercept_)\n",
    "print(reg9.coef_)\n",
    "print(reg9.score(X9,y))\n",
    "\n",
    "xp9 = [1*k for k in range(101)]\n",
    "Xp9 = [[xp9[k]**n for n in range(1,6)] for k in range(101)]\n",
    "yp9 = reg9.predict(Xp9)\n",
    "\n",
    "plt.plot(x, y, \"x\")\n",
    "plt.plot(xp9, yp9)"
   ]
  },
  {
   "cell_type": "code",
   "execution_count": null,
   "id": "favorite-hindu",
   "metadata": {},
   "outputs": [],
   "source": []
  }
 ],
 "metadata": {
  "kernelspec": {
   "display_name": "Python 3",
   "language": "python",
   "name": "python3"
  },
  "language_info": {
   "codemirror_mode": {
    "name": "ipython",
    "version": 3
   },
   "file_extension": ".py",
   "mimetype": "text/x-python",
   "name": "python",
   "nbconvert_exporter": "python",
   "pygments_lexer": "ipython3",
   "version": "3.6.13"
  }
 },
 "nbformat": 4,
 "nbformat_minor": 5
}
