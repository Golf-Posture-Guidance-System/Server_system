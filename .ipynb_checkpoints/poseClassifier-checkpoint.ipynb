{
 "cells": [
  {
   "cell_type": "code",
   "execution_count": 187,
   "id": "another-productivity",
   "metadata": {},
   "outputs": [
    {
     "name": "stdout",
     "output_type": "stream",
     "text": [
      "99\n",
      "90\n",
      "37.896000000000015\n"
     ]
    }
   ],
   "source": [
    "import json\n",
    "import math\n",
    "from matplotlib import pyplot as plt \n",
    "\n",
    "INF = 9999\n",
    "\n",
    "\n",
    "def get_keypoints(vidname,size):\n",
    "    posepoints = []\n",
    "    for i in range(size+1): # 0~num i를 1씩 증가시키면서 반복\n",
    "        num = format(i,\"012\") # 0000000000000 문자열로 저장(12자리 0)\n",
    "        jfilename = vidname +\"_\"+num +\"_keypoints.json\"\n",
    "        with open('json/'+jfilename, 'r') as f:\n",
    "            json_data = json.load(f)  # json파일 불러오기댐\n",
    "            # 첫번째 사람만 본다. 2명일때 예외처리 나중에해야\n",
    "            keypoint = {'x': 0, 'y': 0, 'c': 0}  # 마지막 c는 신뢰도..0.3이하면 신뢰하지 않는다\n",
    "            posepoint = []\n",
    "\n",
    "            if not json_data['people'] : #openpose의 output은 물체에 사람이 잡히지 않을경우 poeple배열을 비운다. 빈 리스트인지 확인하는 코드\n",
    "                return posepoints\n",
    "\n",
    "            for j in range(75):  # 관절개수가 25개(0~24)\n",
    "                if j % 3 == 0:  # 0번째 자리\n",
    "                    keypoint['x'] = json_data['people'][0]['pose_keypoints_2d'][j]\n",
    "                elif j % 3 == 1:\n",
    "                    keypoint['y'] = json_data['people'][0]['pose_keypoints_2d'][j]\n",
    "                elif j % 3 == 2:\n",
    "                    keypoint['c'] = json_data['people'][0]['pose_keypoints_2d'][j]\n",
    "                    posepoint.append(keypoint.copy())  # 리스트는 깊은복사라서.. copy로\n",
    "                    # print(keypoint)\n",
    "        posepoints.append(posepoint.copy())\n",
    "    return posepoints\n",
    "\n",
    "def get_slope(x1,y1,x2,y2): #두 점의 좌표를 가지고 기울기를 구하는 함수 (이번 코드에는 사용하지 않았음 ㅎㅎ;)\n",
    "    if x1 != x2: #분모가 0이되는 상황 방지\n",
    "        radian = math.arctan((y2-y1)/(x2-x1))\n",
    "    return radian\n",
    "\n",
    "def get_distan(point1,point2): #두 점 사이의 거리를 구하는 공식\n",
    "    a = point1.get('x') - point2.get('x')\n",
    "    b = point2.get('y') - point2.get('y')\n",
    "    return math.sqrt((a*a) + (b*b))\n",
    "\n",
    "def get_angle(joint1,joint2,joint3): #두 몸체의 기울기를 가지고 관절의 각도를구하는 함수      locate ->  j1 ------ j2 ------- j3\n",
    "    if(joint1.get('x')-joint2.get('x')) == 0:\n",
    "        return 0\n",
    "    if(joint3.get('x')-joint2.get('x')) == 0:\n",
    "        return 0\n",
    "    radi1 = math.atan2((joint1.get('y')-joint2.get('y')),(joint1.get('x')-joint2.get('x')))\n",
    "    radi2 = math.atan2((joint3.get('y')-joint2.get('y')),(joint3.get('x')-joint2.get('x')))\n",
    "    radian = radi1-radi2\n",
    "    #print(radian)\n",
    "    andgle = radian * (180 / math.pi)\n",
    "    return abs(andgle) #각도를절댓값으로 변환 ^^\n",
    "\n",
    "def cut_frame(posepoints) : #프레임을 어깨 각도를 통해 인식\n",
    "    size = len(posepoints)\n",
    "    flag = [0,0,0,  #[0. 어드래스, 1테이크어웨이,2백스윙\n",
    "            0,0,0]  # 3탑,4 다운스윙,5 임팩트]\n",
    "\n",
    "    left_wrist = get_y_wrist(posepoints,'left')\n",
    "    right_wrist = get_y_wrist(posepoints, 'right')\n",
    "    \n",
    "    \n",
    "    where_top = left_wrist.index(min(left_wrist)) #손목의 높이가 최대가 되는 곳을 리턴 (y축이 작을 수록 상단에 위치)\n",
    "    print(where_top)\n",
    "    where_top = right_wrist.index(min(right_wrist))  # 손목의 높이가 최대가 되는 곳을 리턴\n",
    "    print(where_top)\n",
    "\n",
    "    for i in range(size) :\n",
    "        posepoint = posepoints[i] #i번째 프레임의 몸체 좌표를 저장\n",
    "        if (is_adress(posepoint))  and (flag[1] ==0) :\n",
    "            flag[0] = 1\n",
    "            #print(\"어드래스!\")\n",
    "        if (flag[0] == 1) and (is_takeAway(posepoint)) and flag[2] == 0:\n",
    "            flag[2] = 1\n",
    "            #print(\"테이크어웨이\")\n",
    "\n",
    "        #angle_left_houlder = get_angle(posepoints[i][1], posepoints[i][2], posepoints[i][3])\n",
    "        #angle_right_shoulder = get_angle(posepoints[i][1], posepoints[i][5], posepoints[i][6])\n",
    "        #if(angle_right_shoulder <= 50) or (angle_left_shoulder <= 50):\n",
    "         #   print(\"어드래스 시작\")\n",
    "        #else :\n",
    "         #   print(\"?\")\n",
    "\n",
    "def get_y_wrist(posepoints,lr) : \n",
    "    #손목 위치의 함수를 반환,프레임배열과, 왼오 옵\n",
    "    y_point_arr = []\n",
    "    if (lr == \"left\"): #왼\n",
    "        for i in range(len(posepoints)):\n",
    "            lwrist = posepoints[i][4].get('y')\n",
    "            if(lwrist == 0): #이상치에서 최소 값을 봐야하므로 inf로 대체\n",
    "                y_point_arr.append(INF)\n",
    "            elif (posepoints[i][4].get('c') < 0.2):\n",
    "                y_point_arr.append(INF)\n",
    "            else:y_point_arr.append(lwrist)\n",
    "            \n",
    "    elif (lr == \"right\"): #오른손\n",
    "        for i in range(len(posepoints)):\n",
    "            rwrist = posepoints[i][7].get('y')\n",
    "            if(rwrist == 0): #이상치에서 최소 값을 봐야하므로 inf로 대체\n",
    "                y_point_arr.append(INF)\n",
    "            elif (posepoints[i][4].get('c') < 0.2):\n",
    "                y_point_arr.append(INF)\n",
    "            else:y_point_arr.append(rwrist)            \n",
    "    return y_point_arr      \n",
    "\n",
    "def get_x_wrist(posepoints,lr) : \n",
    "    #손목 위치의 함수를 반환,프레임배열과, 왼오 옵\n",
    "    y_point_arr = []\n",
    "    if (lr == \"left\"): #왼\n",
    "        for i in range(len(posepoints)):\n",
    "            lwrist = posepoints[i][4].get('x')\n",
    "            if(lwrist == 0): #이상치에서 최소 값을 봐야하므로 inf로 대체\n",
    "                y_point_arr.append(INF)\n",
    "            elif (posepoints[i][4].get('c') < 0.2):\n",
    "                y_point_arr.append(INF)\n",
    "            else:y_point_arr.append(lwrist)\n",
    "            \n",
    "    elif (lr == \"right\"): #오른손\n",
    "        for i in range(len(posepoints)):\n",
    "            rwrist = posepoints[i][7].get('x')\n",
    "            if(rwrist == 0): #이상치에서 최소 값을 봐야하므로 inf로 대체\n",
    "                y_point_arr.append(INF)\n",
    "            elif (posepoints[i][4].get('c') < 0.2):\n",
    "                y_point_arr.append(INF)\n",
    "            else:y_point_arr.append(rwrist)            \n",
    "    return y_point_arr   \n",
    "            \n",
    "def is_adress(posepoint) : #손과 어깨의 연결이 예각삼각형이여야한다\n",
    "    left_hand = posepoint[4]\n",
    "    right_hand = posepoint[7]\n",
    "    head_size = get_distan(posepoint[17], posepoint[18])\n",
    "    hand_dis = get_distan(posepoint[4], posepoint[7])\n",
    "    left_elbow_angel = get_angle(posepoint[2], posepoint[3],posepoint[4])\n",
    "    right_elbow_angle = get_angle(posepoint[5], posepoint[6],posepoint[7])\n",
    "\n",
    "    if head_size >= hand_dis : #머리 크기보다 손목사이의 거리가 좁으면 모아져 있다고 판단\n",
    "        #print(\"손이 모아져 있습니다.\")\n",
    "        if (left_elbow_angel >= 160) and (right_elbow_angle >= 160):\n",
    "            #print(\"팔꿈치가 펴져있습니다.\")\n",
    "            #좌 우 팔꿈치가 어느정도 펴져 있어야 한다.\n",
    "            return True\n",
    "\n",
    "def is_takeAway(posepoint) :\n",
    "    head_size = get_distan(posepoint[17], posepoint[18])\n",
    "    hand_dis = get_distan(posepoint[4], posepoint[7])\n",
    "\n",
    "    if  head_size >= hand_dis : #머리 크기보다 손목사이의 거리가 좁으면 모아져 있다고 판단\n",
    "        if posepoint[7].get('x') > posepoint[8].get('y'):\n",
    "            #우측 팔목의 x축 배꼽아래보다 좌측에 있다.\n",
    "            #print(\"손이 배꼽 아래에 있다.\")\n",
    "            return True\n",
    "\n",
    "def is_top(l_wrist,r_wrist):\n",
    "    x_values = []\n",
    "    y_values = []\n",
    "    for i in range(0,l_wrist.len):\n",
    "        x_values.append(l_wrist[i])\n",
    "        y_values.append(i)\n",
    "    plt.plot(x_values,y_values)\n",
    "    plt.show()\n",
    "    return True\n",
    "\n",
    "def get_head(posepoints):\n",
    "    l_ear =posepoints[1][17]\n",
    "    r_ear =posepoints[1][18]\n",
    "    \n",
    "    size = get_distan(l_ear,r_ear)\n",
    "    print(size)\n",
    "    return int(size)\n",
    "\n",
    "\n",
    "\n",
    "\n",
    "posepoints = get_keypoints(\"front_wo\", 100)\n",
    "\n",
    "    #joint num -------\n",
    "    #1:어깨 중심    2 : 좌측어깨    3:좌측 팔꿈치    5 : 우측어꺠   6:우측팔꿈치 .. \n",
    "angle234 = get_angle(posepoints[0][2],posepoints[0][3],posepoints[0][4])\n",
    "cut_frame(posepoints)\n",
    "head_size=get_head(posepoints)"
   ]
  },
  {
   "cell_type": "code",
   "execution_count": null,
   "id": "funded-sigma",
   "metadata": {},
   "outputs": [],
   "source": []
  },
  {
   "cell_type": "code",
   "execution_count": 188,
   "id": "suspended-cambridge",
   "metadata": {
    "scrolled": true
   },
   "outputs": [
    {
     "data": {
      "image/png": "[encoded data removed]",
      "text/plain": [
       "<Figure size 432x288 with 1 Axes>"
      ]
     },
     "metadata": {
      "needs_background": "light"
     },
     "output_type": "display_data"
    },
    {
     "name": "stdout",
     "output_type": "stream",
     "text": [
      "82\n",
      "[268.55, 268.574, 268.569, 268.571, 268.569, 268.573, 268.578, 268.572, 268.56, 268.562, 268.575, 268.562, 268.54, 268.556, 268.568, 268.564, 268.563, 268.574, 268.586, 268.582, 268.543, 268.552, 269.909, 267.218, 268.588, 268.563, 267.255, 267.254, 268.564, 267.251, 265.92, 267.202, 264.443, 265.796, 263.103, 257.717, 253.709, 248.235, 242.871, 233.433, 231.932, 223.874, 214.408, 203.569, 175.155, 166.998, 157.528, 131.799, 135.854, 119.627, 118.283, 122.355, 122.365, 134.504, 153.492, 188.705, 219.825, 255.066, 256.351, 249.621, 230.634, 202.216, 180.576, 143.974, 143.993, 162.979, 114.194, 115.619, 114.239, 115.61, 115.579, 115.577, 114.25, 114.239, 114.292, 115.556, 133.184, 116.916, 118.286, 119.637, 112.848, 112.923]\n"
     ]
    }
   ],
   "source": [
    "size = len(posepoints)\n",
    "flag = [0,0,0,0,0,0,0]  # 어,테,탑,다운,임펙,팔스,피니쉬\n",
    "\n",
    "left_wrist = get_y_wrist(posepoints,'left')\n",
    "right_wrist = get_y_wrist(posepoints, 'right')\n",
    "    \n",
    "    \n",
    "where_top = left_wrist.index(min(left_wrist)) #손목의 높이가 최대가 되는 곳을 리턴 (y축이 작을 수록 상단에 위치)\n",
    "\n",
    "where_top = right_wrist.index(min(right_wrist))  # 손목의 높이가 최대가 되는 곳을 리턴\n",
    "\n",
    "lx_values = []\n",
    "ly_values = []\n",
    "rx_values = []\n",
    "ry_values = []\n",
    "\n",
    "for i in range(len(left_wrist)): #left wrist와 right wrist가 같다\n",
    "    if(left_wrist[i] != INF): #inf값에는 포즈가 감지되지 않아 0값이 기록되어 있으므로 넘어간다. \n",
    "        ly_values.append(left_wrist[i])\n",
    "        lx_values.append(i)\n",
    "        \n",
    "    if(right_wrist[i] != INF):\n",
    "        ry_values.append(right_wrist[i])\n",
    "        rx_values.append(i)\n",
    "       \n",
    "    \n",
    "plt.scatter(lx_values,ly_values)\n",
    "plt.scatter(rx_values,ry_values)\n",
    "\n",
    "\n",
    "plt.legend(['left','right'])\n",
    "plt.show()\n",
    "print(len(lx_values))\n",
    "print(ly_values)"
   ]
  },
  {
   "cell_type": "code",
   "execution_count": 199,
   "id": "instrumental-pasta",
   "metadata": {
    "scrolled": false
   },
   "outputs": [
    {
     "name": "stdout",
     "output_type": "stream",
     "text": [
      "[25, 37, 51, 0, 68, 0, 82]\n",
      "[25, 37, 51, 59, 68, 75, 82]\n",
      "-8.097999999999956\n"
     ]
    },
    {
     "data": {
      "text/plain": [
       "<matplotlib.collections.PathCollection at 0x19bcc8f7da0>"
      ]
     },
     "execution_count": 199,
     "metadata": {},
     "output_type": "execute_result"
    },
    {
     "data": {
      "image/png": "[encoded data removed]",
      "text/plain": [
       "<Figure size 432x288 with 1 Axes>"
      ]
     },
     "metadata": {
      "needs_background": "light"
     },
     "output_type": "display_data"
    }
   ],
   "source": [
    "frame = 100\n",
    "slopes=[]\n",
    "idx = [25,0,0,0,0,0,82]#어,테,탑,다운,임펙,팔스,피니쉬\n",
    "\n",
    "for i in range(0,len(rx_values)):\n",
    "    if (len(rx_values)-1 == i): #마지막 점의 경우 변화량을 계산할 필요가 없음\n",
    "        slopes.append(slope)\n",
    "        break\n",
    "    else :\n",
    "        dx = rx_values[i+1] - rx_values[i] \n",
    "        dy = ry_values[i+1] - ry_values[i]\n",
    "        slope = dy/dx\n",
    "        if(slope <= -8 and idx[0]!=0 and idx[1]==0) : #테이크어웨이 검사\n",
    "            dx_left = lx_values[i+1] - lx_values[i] \n",
    "            dy_left = ly_values[i+1] - ly_values[i] \n",
    "            slope_left = dy_left/dx_left\n",
    "            #print(slope_left)\n",
    "            if(slope_left<= -8):\n",
    "                idx[1] = rx_values[i-1]\n",
    "        \n",
    "        if(idx[1]!=0 and idx[2]==0 and slope>0) :  #탑 검사\n",
    "            dx_left = lx_values[i+1] - lx_values[i] \n",
    "            dy_left = ly_values[i+1] - ly_values[i] \n",
    "            slope_left = dy_left/dx_left\n",
    "            if(slope_left>0):\n",
    "                idx[2] = rx_values[i-1]\n",
    "        if(idx[2]!=0 and idx[4]==0 and slope<0) : #임펙트 검사\n",
    "            dx_left = lx_values[i+1] - lx_values[i] \n",
    "            dy_left = ly_values[i+1] - ly_values[i] \n",
    "            slope_left = dy_left/dx_left\n",
    "            if(slope_left<0):\n",
    "                idx[4] = rx_values[i-1]\n",
    "        #if(idx[4]!=0 and idx[6]==0 and slope>0) : #피니쉬 검사\n",
    "        #    dx_left = lx_values[i+1] - lx_values[i] \n",
    "        #    dy_left = ly_values[i+1] - ly_values[i] \n",
    "        #    slope_left = dy_left/dx_left\n",
    "        #    print(slope_left)\n",
    "        #    if(slope_left>0):\n",
    "        #        idx[6] = rx_values[i-1]\n",
    "        slopes.append(slope)\n",
    "        \n",
    "    \n",
    "\n",
    "print(idx)\n",
    "idx[3] = int((idx[4] + idx[2] )/2)\n",
    "idx[5] = int((idx[6] + idx[4] )/2)\n",
    "print(idx)\n",
    "\n",
    "print(slopes[35])\n",
    "\n",
    "plt.scatter(rx_values,slopes)"
   ]
  },
  {
   "cell_type": "code",
   "execution_count": 9,
   "id": "wrong-simulation",
   "metadata": {},
   "outputs": [
    {
     "data": {
      "text/plain": [
       "943.308"
      ]
     },
     "execution_count": 9,
     "metadata": {},
     "output_type": "execute_result"
    }
   ],
   "source": [
    "x = [x_values[k] for k in range(len(x_values))]\n",
    "y = [y_values[m] for m in range(len(y_values))]\n",
    "y_values[2]"
   ]
  },
  {
   "cell_type": "code",
   "execution_count": 10,
   "id": "broke-wagner",
   "metadata": {},
   "outputs": [
    {
     "name": "stdout",
     "output_type": "stream",
     "text": [
      "1034.9947547256043\n",
      "[-9.25585887e+00 -5.24282256e-03]\n"
     ]
    },
    {
     "data": {
      "text/plain": [
       "[<matplotlib.lines.Line2D at 0x1cd19fd7ac8>]"
      ]
     },
     "execution_count": 10,
     "metadata": {},
     "output_type": "execute_result"
    },
    {
     "data": {
      "image/png": "[encoded data removed]",
      "text/plain": [
       "<Figure size 432x288 with 1 Axes>"
      ]
     },
     "metadata": {
      "needs_background": "light"
     },
     "output_type": "display_data"
    }
   ],
   "source": [
    "X2 = [[x[k], x[k]**2] for k in range(len(x_values))]\n",
    "\n",
    "reg2 = linear_model.LinearRegression()\n",
    "reg2.fit(X2,y)\n",
    "print(reg2.intercept_)\n",
    "print(reg2.coef_)\n",
    "\n",
    "xp2 = [1*k for k in range(101)]\n",
    "Xp2 = [[xp2[k], xp2[k]**2] for k in range(101)]\n",
    "yp2 = reg2.predict(Xp2)\n",
    "\n",
    "plt.plot(x, y, \"*\")\n",
    "plt.plot(xp2, yp2)"
   ]
  },
  {
   "cell_type": "code",
   "execution_count": 11,
   "id": "separate-catalyst",
   "metadata": {},
   "outputs": [
    {
     "name": "stdout",
     "output_type": "stream",
     "text": [
      "889.698425713858\n",
      "[ 4.74178324e+01 -5.12578881e+00  1.46677659e-01  3.15062213e-04\n",
      " -6.99586675e-05  7.42633837e-07]\n",
      "0.7504227799461459\n"
     ]
    },
    {
     "data": {
      "text/plain": [
       "[<matplotlib.lines.Line2D at 0x1cd1b05d5c0>]"
      ]
     },
     "execution_count": 11,
     "metadata": {},
     "output_type": "execute_result"
    },
    {
     "data": {
      "image/png": "[encoded data removed]",
      "text/plain": [
       "<Figure size 432x288 with 1 Axes>"
      ]
     },
     "metadata": {
      "needs_background": "light"
     },
     "output_type": "display_data"
    }
   ],
   "source": [
    "X9 = [[x[k]**n for n in range(1,7)] for k in range(len(x_values))]\n",
    "\n",
    "# from sklearn import linear_model # already imported\n",
    "reg9 = linear_model.LinearRegression()\n",
    "reg9.fit(X9,y)\n",
    "print(reg9.intercept_)\n",
    "print(reg9.coef_)\n",
    "print(reg9.score(X9,y))\n",
    "\n",
    "xp9 = [1*k for k in range(101)]\n",
    "Xp9 = [[xp9[k]**n for n in range(1,7)] for k in range(101)]\n",
    "yp9 = reg9.predict(Xp9)\n",
    "\n",
    "plt.plot(x, y, \"x\")\n",
    "plt.plot(xp9, yp9)"
   ]
  },
  {
   "cell_type": "code",
   "execution_count": 13,
   "id": "demonstrated-identifier",
   "metadata": {},
   "outputs": [
    {
     "name": "stdout",
     "output_type": "stream",
     "text": [
      "969.6895497104249\n",
      "[ 3.40298760e+00 -3.87800778e-01 -1.97871931e-03  1.00867244e-04]\n"
     ]
    },
    {
     "ename": "IndexError",
     "evalue": "list index out of range",
     "output_type": "error",
     "traceback": [
      "\u001b[1;31m---------------------------------------------------------------------------\u001b[0m",
      "\u001b[1;31mIndexError\u001b[0m                                Traceback (most recent call last)",
      "\u001b[1;32m<ipython-input-13-3a7f34d8b7ad>\u001b[0m in \u001b[0;36m<module>\u001b[1;34m\u001b[0m\n\u001b[0;32m      8\u001b[0m \u001b[1;33m\u001b[0m\u001b[0m\n\u001b[0;32m      9\u001b[0m \u001b[0mxp3\u001b[0m \u001b[1;33m=\u001b[0m \u001b[1;33m[\u001b[0m\u001b[1;36m1\u001b[0m\u001b[1;33m*\u001b[0m\u001b[0mk\u001b[0m \u001b[1;32mfor\u001b[0m \u001b[0mk\u001b[0m \u001b[1;32min\u001b[0m \u001b[0mrange\u001b[0m\u001b[1;33m(\u001b[0m\u001b[1;36m101\u001b[0m\u001b[1;33m)\u001b[0m\u001b[1;33m]\u001b[0m\u001b[1;33m\u001b[0m\u001b[1;33m\u001b[0m\u001b[0m\n\u001b[1;32m---> 10\u001b[1;33m \u001b[0mXp3\u001b[0m \u001b[1;33m=\u001b[0m \u001b[1;33m[\u001b[0m\u001b[1;33m[\u001b[0m\u001b[0mxp\u001b[0m\u001b[1;33m[\u001b[0m\u001b[0mk\u001b[0m\u001b[1;33m]\u001b[0m\u001b[1;33m,\u001b[0m \u001b[0mxp\u001b[0m\u001b[1;33m[\u001b[0m\u001b[0mk\u001b[0m\u001b[1;33m]\u001b[0m\u001b[1;33m**\u001b[0m\u001b[1;36m2\u001b[0m\u001b[1;33m,\u001b[0m \u001b[0mxp\u001b[0m\u001b[1;33m[\u001b[0m\u001b[0mk\u001b[0m\u001b[1;33m]\u001b[0m\u001b[1;33m**\u001b[0m\u001b[1;36m3\u001b[0m\u001b[1;33m,\u001b[0m\u001b[0mx\u001b[0m\u001b[1;33m[\u001b[0m\u001b[0mk\u001b[0m\u001b[1;33m]\u001b[0m\u001b[1;33m**\u001b[0m\u001b[1;36m4\u001b[0m\u001b[1;33m]\u001b[0m \u001b[1;32mfor\u001b[0m \u001b[0mk\u001b[0m \u001b[1;32min\u001b[0m \u001b[0mrange\u001b[0m\u001b[1;33m(\u001b[0m\u001b[1;36m101\u001b[0m\u001b[1;33m)\u001b[0m\u001b[1;33m]\u001b[0m\u001b[1;33m\u001b[0m\u001b[1;33m\u001b[0m\u001b[0m\n\u001b[0m\u001b[0;32m     11\u001b[0m \u001b[0myp3\u001b[0m \u001b[1;33m=\u001b[0m \u001b[0mreg3\u001b[0m\u001b[1;33m.\u001b[0m\u001b[0mpredict\u001b[0m\u001b[1;33m(\u001b[0m\u001b[0mXp3\u001b[0m\u001b[1;33m)\u001b[0m\u001b[1;33m\u001b[0m\u001b[1;33m\u001b[0m\u001b[0m\n\u001b[0;32m     12\u001b[0m \u001b[1;33m\u001b[0m\u001b[0m\n",
      "\u001b[1;32m<ipython-input-13-3a7f34d8b7ad>\u001b[0m in \u001b[0;36m<listcomp>\u001b[1;34m(.0)\u001b[0m\n\u001b[0;32m      8\u001b[0m \u001b[1;33m\u001b[0m\u001b[0m\n\u001b[0;32m      9\u001b[0m \u001b[0mxp3\u001b[0m \u001b[1;33m=\u001b[0m \u001b[1;33m[\u001b[0m\u001b[1;36m1\u001b[0m\u001b[1;33m*\u001b[0m\u001b[0mk\u001b[0m \u001b[1;32mfor\u001b[0m \u001b[0mk\u001b[0m \u001b[1;32min\u001b[0m \u001b[0mrange\u001b[0m\u001b[1;33m(\u001b[0m\u001b[1;36m101\u001b[0m\u001b[1;33m)\u001b[0m\u001b[1;33m]\u001b[0m\u001b[1;33m\u001b[0m\u001b[1;33m\u001b[0m\u001b[0m\n\u001b[1;32m---> 10\u001b[1;33m \u001b[0mXp3\u001b[0m \u001b[1;33m=\u001b[0m \u001b[1;33m[\u001b[0m\u001b[1;33m[\u001b[0m\u001b[0mxp\u001b[0m\u001b[1;33m[\u001b[0m\u001b[0mk\u001b[0m\u001b[1;33m]\u001b[0m\u001b[1;33m,\u001b[0m \u001b[0mxp\u001b[0m\u001b[1;33m[\u001b[0m\u001b[0mk\u001b[0m\u001b[1;33m]\u001b[0m\u001b[1;33m**\u001b[0m\u001b[1;36m2\u001b[0m\u001b[1;33m,\u001b[0m \u001b[0mxp\u001b[0m\u001b[1;33m[\u001b[0m\u001b[0mk\u001b[0m\u001b[1;33m]\u001b[0m\u001b[1;33m**\u001b[0m\u001b[1;36m3\u001b[0m\u001b[1;33m,\u001b[0m\u001b[0mx\u001b[0m\u001b[1;33m[\u001b[0m\u001b[0mk\u001b[0m\u001b[1;33m]\u001b[0m\u001b[1;33m**\u001b[0m\u001b[1;36m4\u001b[0m\u001b[1;33m]\u001b[0m \u001b[1;32mfor\u001b[0m \u001b[0mk\u001b[0m \u001b[1;32min\u001b[0m \u001b[0mrange\u001b[0m\u001b[1;33m(\u001b[0m\u001b[1;36m101\u001b[0m\u001b[1;33m)\u001b[0m\u001b[1;33m]\u001b[0m\u001b[1;33m\u001b[0m\u001b[1;33m\u001b[0m\u001b[0m\n\u001b[0m\u001b[0;32m     11\u001b[0m \u001b[0myp3\u001b[0m \u001b[1;33m=\u001b[0m \u001b[0mreg3\u001b[0m\u001b[1;33m.\u001b[0m\u001b[0mpredict\u001b[0m\u001b[1;33m(\u001b[0m\u001b[0mXp3\u001b[0m\u001b[1;33m)\u001b[0m\u001b[1;33m\u001b[0m\u001b[1;33m\u001b[0m\u001b[0m\n\u001b[0;32m     12\u001b[0m \u001b[1;33m\u001b[0m\u001b[0m\n",
      "\u001b[1;31mIndexError\u001b[0m: list index out of range"
     ]
    }
   ],
   "source": [
    "X3 = [[x[k], x[k]**2, x[k]**3,x[k]**4] for k in range(len(x_values))]\n",
    "\n",
    "# from sklearn import linear_model # already imported\n",
    "reg3 = linear_model.LinearRegression()\n",
    "reg3.fit(X3,y)\n",
    "print(reg3.intercept_)\n",
    "print(reg3.coef_)\n",
    "\n",
    "xp3 = [1*k for k in range(101)]\n",
    "Xp3 = [[xp[k], xp[k]**2, xp[k]**3,x[k]**4] for k in range(101)]\n",
    "yp3 = reg3.predict(Xp3)\n",
    "\n",
    "plt.plot(x, y, \"x\")\n",
    "plt.plot(xp3, yp3)"
   ]
  },
  {
   "cell_type": "code",
   "execution_count": 14,
   "id": "scientific-russell",
   "metadata": {},
   "outputs": [],
   "source": [
    "def get_x_wrist(posepoints,lr) : \n",
    "    #손목 위치의 함수를 반환,프레임배열과, 왼오 옵\n",
    "    y_point_arr = []\n",
    "    if (lr == \"left\"): #왼\n",
    "        for i in range(len(posepoints)):\n",
    "            lwrist = posepoints[i][4].get('x')\n",
    "            if(lwrist == 0): #이상치에서 최소 값을 봐야하므로 inf로 대체\n",
    "                y_point_arr.append(INF)\n",
    "            elif (posepoints[i][4].get('c') < 0.2):\n",
    "                y_point_arr.append(INF)\n",
    "            else:y_point_arr.append(lwrist)\n",
    "            \n",
    "    elif (lr == \"right\"): #오른손\n",
    "        for i in range(len(posepoints)):\n",
    "            rwrist = posepoints[i][7].get('x')\n",
    "            if(rwrist == 0): #이상치에서 최소 값을 봐야하므로 inf로 대체\n",
    "                y_point_arr.append(INF)\n",
    "            elif (posepoints[i][4].get('c') < 0.2):\n",
    "                y_point_arr.append(INF)\n",
    "            else:y_point_arr.append(rwrist)            \n",
    "    return y_point_arr   "
   ]
  },
  {
   "cell_type": "code",
   "execution_count": 144,
   "id": "closing-praise",
   "metadata": {},
   "outputs": [
    {
     "name": "stdout",
     "output_type": "stream",
     "text": [
      "73\n"
     ]
    },
    {
     "data": {
      "image/png": "[encoded data removed]",
      "text/plain": [
       "<Figure size 432x288 with 1 Axes>"
      ]
     },
     "metadata": {
      "needs_background": "light"
     },
     "output_type": "display_data"
    }
   ],
   "source": [
    "left_wrist = get_x_wrist(posepoints,'left')\n",
    "right_wrist = get_x_wrist(posepoints, 'right')\n",
    "    \n",
    "    \n",
    "where_top = left_wrist.index(min(left_wrist)) #손목의 높이가 최대가 되는 곳을 리턴 (y축이 작을 수록 상단에 위치)\n",
    "where_top = right_wrist.index(min(right_wrist))  # 손목의 높이가 최대가 되는 곳을 리턴\n",
    "print(len(x_values))\n",
    "\n",
    "rx_values = []\n",
    "ry_values = []\n",
    "lx_values = []\n",
    "ly_values = []\n",
    "\n",
    "for i in range(len(left_wrist)):\n",
    "    if(left_wrist[i] != INF): #inf값에는 포즈가 감지되지 않아 0값이 기록되어 있으므로 넘어간다. \n",
    "        ly_values.append(left_wrist[i])\n",
    "        lx_values.append(i)\n",
    "        \n",
    "    if(right_wrist[i] != INF):\n",
    "        ry_values.append(right_wrist[i])\n",
    "        rx_values.append(i)\n",
    "    \n",
    "plt.scatter(lx_values,ly_values)\n",
    "plt.scatter(rx_values,ry_values)\n",
    "plt.legend(['left','right'])\n",
    "plt.show()"
   ]
  },
  {
   "cell_type": "code",
   "execution_count": 155,
   "id": "angry-prior",
   "metadata": {},
   "outputs": [
    {
     "name": "stdout",
     "output_type": "stream",
     "text": [
      "0.06600000000003092\n",
      "-25.86399999999992\n",
      "[10, 0, 0, 0, 0, 0]\n",
      "-20.83000000000004\n"
     ]
    },
    {
     "data": {
      "text/plain": [
       "<matplotlib.collections.PathCollection at 0x19bc93966d8>"
      ]
     },
     "execution_count": 155,
     "metadata": {},
     "output_type": "execute_result"
    },
    {
     "data": {
      "image/png": "[encoded data removed]",
      "text/plain": [
       "<Figure size 432x288 with 1 Axes>"
      ]
     },
     "metadata": {
      "needs_background": "light"
     },
     "output_type": "display_data"
    }
   ],
   "source": [
    "frame = 100\n",
    "slopes=[]\n",
    "idx = [0,0,0,0,0,0]\n",
    "for i in range(0,len(rx_values)):\n",
    "    if (len(rx_values)-1 == i): #마지막 점의 경우 변화량을 계산할 필요가 없음\n",
    "        slopes.append(slope)\n",
    "        break\n",
    "    else : \n",
    "        dx = rx_values[i+1] - rx_values[i] \n",
    "        dy = ry_values[i+1] - ry_values[i]\n",
    "        slope = dy/dx\n",
    "        if(slope <= -8 and idx[0]==0) : #좌측으로 움직이면 x좌표의 변화량은 감소\n",
    "            dx_left = lx_values[i+1] - lx_values[i] \n",
    "            dy_left = ly_values[i+1] - ly_values[i] \n",
    "            slope_left = dy_left/dx_left\n",
    "            print(slope_left)\n",
    "            if(slope_left<= -8):\n",
    "                idx[0] = rx_values[i]\n",
    "        slopes.append(slope)\n",
    "        \n",
    "    \n",
    "print(idx)\n",
    "print(slopes[2])\n",
    "\n",
    "plt.scatter(rx_values,slopes)"
   ]
  },
  {
   "cell_type": "code",
   "execution_count": 17,
   "id": "radical-samoa",
   "metadata": {},
   "outputs": [
    {
     "name": "stdout",
     "output_type": "stream",
     "text": [
      "527.6625382466739\n",
      "[ 9.14285340e+01 -1.48485285e+01  7.51375098e-01 -1.49334325e-02\n",
      "  1.02264137e-04]\n",
      "0.7600261118238054\n"
     ]
    },
    {
     "data": {
      "text/plain": [
       "[<matplotlib.lines.Line2D at 0x1cd1b15eb38>]"
      ]
     },
     "execution_count": 17,
     "metadata": {},
     "output_type": "execute_result"
    },
    {
     "data": {
      "image/png": "[encoded data removed]",
      "text/plain": [
       "<Figure size 432x288 with 1 Axes>"
      ]
     },
     "metadata": {
      "needs_background": "light"
     },
     "output_type": "display_data"
    }
   ],
   "source": [
    "X9 = [[x[k]**n for n in range(1,6)] for k in range(len(x_values))]\n",
    "\n",
    "# from sklearn import linear_model # already imported\n",
    "reg9 = linear_model.LinearRegression()\n",
    "reg9.fit(X9,y)\n",
    "print(reg9.intercept_)\n",
    "print(reg9.coef_)\n",
    "print(reg9.score(X9,y))\n",
    "\n",
    "xp9 = [1*k for k in range(101)]\n",
    "Xp9 = [[xp9[k]**n for n in range(1,6)] for k in range(101)]\n",
    "yp9 = reg9.predict(Xp9)\n",
    "\n",
    "plt.plot(x, y, \"x\")\n",
    "plt.plot(xp9, yp9)"
   ]
  },
  {
   "cell_type": "code",
   "execution_count": 1,
   "id": "favorite-hindu",
   "metadata": {},
   "outputs": [
    {
     "ename": "ModuleNotFoundError",
     "evalue": "No module named 'matlab'",
     "output_type": "error",
     "traceback": [
      "\u001b[1;31m---------------------------------------------------------------------------\u001b[0m",
      "\u001b[1;31mModuleNotFoundError\u001b[0m                       Traceback (most recent call last)",
      "\u001b[1;32m<ipython-input-1-9b3452cb0e41>\u001b[0m in \u001b[0;36m<module>\u001b[1;34m\u001b[0m\n\u001b[1;32m----> 1\u001b[1;33m \u001b[1;32mimport\u001b[0m \u001b[0mmatlab\u001b[0m\u001b[1;33m.\u001b[0m\u001b[0mengin\u001b[0m\u001b[1;33m\u001b[0m\u001b[1;33m\u001b[0m\u001b[0m\n\u001b[0m",
      "\u001b[1;31mModuleNotFoundError\u001b[0m: No module named 'matlab'"
     ]
    }
   ],
   "source": [
    "import matlab.engin"
   ]
  },
  {
   "cell_type": "code",
   "execution_count": null,
   "id": "varied-wilderness",
   "metadata": {},
   "outputs": [],
   "source": []
  }
 ],
 "metadata": {
  "kernelspec": {
   "display_name": "Python 3",
   "language": "python",
   "name": "python3"
  },
  "language_info": {
   "codemirror_mode": {
    "name": "ipython",
    "version": 3
   },
   "file_extension": ".py",
   "mimetype": "text/x-python",
   "name": "python",
   "nbconvert_exporter": "python",
   "pygments_lexer": "ipython3",
   "version": "3.6.13"
  }
 },
 "nbformat": 4,
 "nbformat_minor": 5
}
