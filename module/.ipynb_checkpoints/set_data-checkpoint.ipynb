{
 "cells": [
  {
   "cell_type": "code",
   "execution_count": 1,
   "id": "acceptable-auditor",
   "metadata": {},
   "outputs": [],
   "source": [
    "import sys, os\n",
    "sys.path.append(os.pardir)  # 부모 디렉터리의 파일을 가져올 수 있도록 설정"
   ]
  },
  {
   "cell_type": "code",
   "execution_count": 2,
   "id": "illegal-industry",
   "metadata": {},
   "outputs": [],
   "source": [
    "def get_keypoints(vidname,size):\n",
    "    posepoints = []\n",
    "    for i in range(size+1): # 0~num i를 1씩 증가시키면서 반복\n",
    "        num = format(i,\"012\") # 0000000000000 문자열로 저장(12자리 0)\n",
    "        jfilename = vidname +\"_\"+num +\"_keypoints.json\"\n",
    "        with open('json/'+jfilename, 'r') as f:\n",
    "            json_data = json.load(f)  # json파일 불러오기댐\n",
    "            # 첫번째 사람만 본다. 2명일때 예외처리 나중에해야\n",
    "            keypoint = {'x': 0, 'y': 0, 'c': 0}  # 마지막 c는 신뢰도..0.3이하면 신뢰하지 않는다\n",
    "            posepoint = []\n",
    "\n",
    "            if not json_data['people'] : #openpose의 output은 물체에 사람이 잡히지 않을경우 poeple배열을 비운다. 빈 리스트인지 확인하는 코드\n",
    "                return posepoints\n",
    "\n",
    "            for j in range(75):  # 관절개수가 25개(0~24)\n",
    "                if j % 3 == 0:  # 0번째 자리\n",
    "                    keypoint['x'] = json_data['people'][0]['pose_keypoints_2d'][j]\n",
    "                elif j % 3 == 1:\n",
    "                    keypoint['y'] = json_data['people'][0]['pose_keypoints_2d'][j]\n",
    "                elif j % 3 == 2:\n",
    "                    keypoint['c'] = json_data['people'][0]['pose_keypoints_2d'][j]\n",
    "                    posepoint.append(keypoint.copy())  # 리스트는 깊은복사라서.. copy로\n",
    "                    # print(keypoint)\n",
    "        posepoints.append(posepoint.copy())\n",
    "    return posepoints"
   ]
  },
  {
   "cell_type": "code",
   "execution_count": null,
   "id": "allied-andrews",
   "metadata": {},
   "outputs": [],
   "source": []
  }
 ],
 "metadata": {
  "kernelspec": {
   "display_name": "Python 3",
   "language": "python",
   "name": "python3"
  },
  "language_info": {
   "codemirror_mode": {
    "name": "ipython",
    "version": 3
   },
   "file_extension": ".py",
   "mimetype": "text/x-python",
   "name": "python",
   "nbconvert_exporter": "python",
   "pygments_lexer": "ipython3",
   "version": "3.6.13"
  }
 },
 "nbformat": 4,
 "nbformat_minor": 5
}
